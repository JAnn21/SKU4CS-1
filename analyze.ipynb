{
 "cells": [
  {
   "cell_type": "code",
   "execution_count": 434,
   "metadata": {},
   "outputs": [],
   "source": [
    "import pandas as pd\n",
    "import tensorflow as tf\n",
    "import numpy as np\n",
    "import matplotlib.pyplot as plt\n",
    "from sklearn.linear_model import LinearRegression"
   ]
  },
  {
   "cell_type": "code",
   "execution_count": 435,
   "metadata": {},
   "outputs": [
    {
     "data": {
      "text/html": [
       "<div>\n",
       "<style scoped>\n",
       "    .dataframe tbody tr th:only-of-type {\n",
       "        vertical-align: middle;\n",
       "    }\n",
       "\n",
       "    .dataframe tbody tr th {\n",
       "        vertical-align: top;\n",
       "    }\n",
       "\n",
       "    .dataframe thead th {\n",
       "        text-align: right;\n",
       "    }\n",
       "</style>\n",
       "<table border=\"1\" class=\"dataframe\">\n",
       "  <thead>\n",
       "    <tr style=\"text-align: right;\">\n",
       "      <th></th>\n",
       "      <th>name</th>\n",
       "      <th>year</th>\n",
       "      <th>fuel</th>\n",
       "      <th>km</th>\n",
       "      <th>price</th>\n",
       "    </tr>\n",
       "  </thead>\n",
       "  <tbody>\n",
       "    <tr>\n",
       "      <td>0</td>\n",
       "      <td>BMW 120d 쿠페</td>\n",
       "      <td>19/09</td>\n",
       "      <td>디젤</td>\n",
       "      <td>170000</td>\n",
       "      <td>6000000</td>\n",
       "    </tr>\n",
       "    <tr>\n",
       "      <td>1</td>\n",
       "      <td>BMW 1M 쿠페</td>\n",
       "      <td>19/12</td>\n",
       "      <td>가솔린</td>\n",
       "      <td>60000</td>\n",
       "      <td>37500000</td>\n",
       "    </tr>\n",
       "    <tr>\n",
       "      <td>2</td>\n",
       "      <td>BMW 1M 쿠페</td>\n",
       "      <td>19/11</td>\n",
       "      <td>가솔린</td>\n",
       "      <td>50000</td>\n",
       "      <td>42000000</td>\n",
       "    </tr>\n",
       "    <tr>\n",
       "      <td>3</td>\n",
       "      <td>BMW 1M 쿠페</td>\n",
       "      <td>19/12</td>\n",
       "      <td>가솔린</td>\n",
       "      <td>60000</td>\n",
       "      <td>43500000</td>\n",
       "    </tr>\n",
       "    <tr>\n",
       "      <td>4</td>\n",
       "      <td>BMW 218d 액티브 투어러 조이</td>\n",
       "      <td>18/03</td>\n",
       "      <td>디젤</td>\n",
       "      <td>4000</td>\n",
       "      <td>20500000</td>\n",
       "    </tr>\n",
       "  </tbody>\n",
       "</table>\n",
       "</div>"
      ],
      "text/plain": [
       "                  name   year fuel      km     price\n",
       "0          BMW 120d 쿠페  19/09   디젤  170000   6000000\n",
       "1            BMW 1M 쿠페  19/12  가솔린   60000  37500000\n",
       "2            BMW 1M 쿠페  19/11  가솔린   50000  42000000\n",
       "3            BMW 1M 쿠페  19/12  가솔린   60000  43500000\n",
       "4  BMW 218d 액티브 투어러 조이  18/03   디젤    4000  20500000"
      ]
     },
     "execution_count": 435,
     "metadata": {},
     "output_type": "execute_result"
    }
   ],
   "source": [
    "model = tf.global_variables_initializer()\n",
    "\n",
    "\n",
    "data = pd.read_csv('cars.csv',\n",
    "                  thousands=',',\n",
    "                  names=['name','year','fuel','km','price'],\n",
    "                  encoding='euc-kr')\n",
    "data.head()\n"
   ]
  },
  {
   "cell_type": "code",
   "execution_count": 436,
   "metadata": {},
   "outputs": [
    {
     "name": "stdout",
     "output_type": "stream",
     "text": [
      "판매할 차량을 입력하시오 : 마세라티\n",
      "마세라티 4200gt 스파이더\n",
      "마세라티 그란카브리오 4.7 mc\n",
      "마세라티 그란카브리오 4.7 스포츠\n",
      "마세라티 그란카브리오 4.7 스포츠\n",
      "마세라티 그란투리스모 4.2 v8\n",
      "마세라티 그란투리스모 4.7 mc\n",
      "마세라티 그란투리스모 4.7 mc \n",
      "마세라티 그란투리스모 s 4.7 v8 mc 시프트\n",
      "마세라티 그란투리스모 s 4.7 v8 오토매틱\n",
      "마세라티 그란투리스모 s 4.7 v8 오토매틱\n",
      "마세라티 그란투리스모 스포츠 4.7 \n",
      "마세라티 그란투리스모 스포츠 4.7 mc 시프트\n",
      "마세라티 그란투리스모 스포츠 4.7 mc 오토\n",
      "마세라티 그란투리스모 스포츠 4.7 mc 오토\n",
      "마세라티 기블리 3.0 v6\n",
      "마세라티 기블리 3.0 v6\n",
      "마세라티 기블리 3.0 v6\n",
      "마세라티 기블리 3.0 v6 s q4\n",
      "마세라티 기블리 3.0 v6 s q4\n",
      "마세라티 기블리 3.0 v6 s q4 그란스포츠\n",
      "마세라티 기블리 3.0 v6 s q4 네리시모 에디션\n",
      "마세라티 기블리 3.0 v6 그란루쏘\n",
      "마세라티 기블리 3.0 v6 그란루쏘\n",
      "마세라티 기블리 3.0 v6 그란루쏘\n",
      "마세라티 기블리 3.0 v6 그란루쏘\n",
      "마세라티 기블리 3.0 디젤\n",
      "마세라티 기블리 3.0 디젤\n",
      "마세라티 기블리 3.0 디젤\n",
      "마세라티 기블리 3.0 디젤 그란스포츠\n",
      "마세라티 기블리 3.0 디젤 스포츠\n",
      "마세라티 기블리 3.0 디젤 스포츠\n",
      "마세라티 르반떼 3.0 s 럭셔리\n",
      "마세라티 르반떼 3.0 그란스포츠\n",
      "마세라티 르반떼 3.0 그란스포츠\n",
      "마세라티 르반떼 3.0 그란스포츠\n",
      "마세라티 르반떼 3.0 그란스포츠\n",
      "마세라티 르반떼 3.0 그란스포츠\n",
      "마세라티 르반떼 3.0 그란스포츠\n",
      "마세라티 르반떼 3.0 디젤\n",
      "마세라티 르반떼 3.0 디젤 그란루쏘\n",
      "마세라티 르반떼 3.0 디젤 그란루쏘\n",
      "마세라티 르반떼 3.0 디젤 그란스포츠\n",
      "마세라티 르반떼 3.0 디젤 그란스포츠\n",
      "마세라티 르반떼 3.0 디젤 스포츠\n",
      "마세라티 르반떼 3.0 프리미엄\n",
      "마세라티 르반떼 3.0 프리미엄\n",
      "마세라티 콰트로포르테 3.0 s q4\n",
      "마세라티 콰트로포르테 3.0 s q4\n",
      "마세라티 콰트로포르테 3.0 s q4 그란스포츠\n",
      "마세라티 콰트로포르테 3.0 v6\n",
      "마세라티 콰트로포르테 3.0 디젤\n",
      "마세라티 콰트로포르테 3.0 디젤\n",
      "마세라티 콰트로포르테 3.0 디젤\n",
      "마세라티 콰트로포르테 3.0 디젤 그란루소\n",
      "마세라티 콰트로포르테 3.0 디젤 그란루소\n",
      "마세라티 콰트로포르테 3.8 gts 그란스포츠\n",
      "마세라티 콰트로포르테 3.8 gts 스포츠\n",
      "마세라티 콰트로포르테 3.8 gts 스포츠\n",
      "마세라티 콰트로포르테 4.2 v8 스포트 gt\n",
      "마세라티 콰트로포르테 4.2 v8 스포트 gt\n",
      "마세라티 콰트로포르테 s 4.7 v8\n",
      "마세라티 콰트로포르테 s 4.7 v8 스포츠 gts\n",
      "마세라티 콰트로포르테 s 4.7 v8 스포츠 gts 어워즈 에디션\n",
      "마세라티 콰트로포르테 s 4.7 v8 스포츠 gts 어워즈 에디션\n",
      "[['30000', 32600000], ['8000', 169000000], ['30000', 117500000], ['5000', 145000000], ['60000', 50000000], ['1000', 168000000], ['10000', 158000000], ['40000', 77000000], ['20000', 59000000], ['50000', 74000000], ['2000', 128000000], ['70000', 75000000], ['10000', 109000000], ['80000', 78800000], ['120000', 44500000], ['10000', 59000000], ['8000', 77990000], ['80000', 57900000], ['30000', 64990000], ['10000', 87000000], ['10000', 88000000], ['30000', 79000000], ['50000', 79500000], ['10000', 79990000], ['2000', 92000000], ['80000', 45000000], ['30000', 56900000], ['20000', 69900000], ['5000', 86500000], ['70000', 48000000], ['60000', 54000000], ['20000', 95800000], ['30000', 88000000], ['10000', 89900000], ['10000', 92000000], ['10000', 93000000], ['10000', 93800000], ['2000', 99000000], ['40000', 77900000], ['10000', 91000000], ['10000', 91500000], ['20000', 90000000], ['10000', 94000000], ['50000', 79900000], ['20000', 83500000], ['10000', 85490000], ['9000', 118000000], ['50000', 72000000], ['3000', 128000000], ['10000', 77500000], ['70000', 55500000], ['30000', 68000000], ['70000', 68000000], ['40000', 84000000], ['20000', 89900000], ['2000', 146990000], ['10000', 75000000], ['30000', 88000000], ['30000', 36500000], ['70000', 38000000], ['80000', 33000000], ['40000', 73000000], ['30000', 120000000], ['30000', 120000000]]\n"
     ]
    }
   ],
   "source": [
    "\n",
    "carname = input(\"판매할 차량을 입력하시오 : \").split(' ')\n",
    "cars = []\n",
    "z_data = []\n",
    "for car in data.values :\n",
    "    if all(x in car[0].lower() for x in carname):\n",
    "        print(car[0].lower())\n",
    "        z_data.append(car[0].lower())\n",
    "        cars.append([car[3],car[4]])\n",
    "    \n",
    "    \n",
    "print(cars)\n"
   ]
  },
  {
   "cell_type": "raw",
   "metadata": {},
   "source": []
  },
  {
   "cell_type": "code",
   "execution_count": 437,
   "metadata": {},
   "outputs": [],
   "source": [
    "xy = np.array(cars,dtype=np.int32)"
   ]
  },
  {
   "cell_type": "code",
   "execution_count": 448,
   "metadata": {},
   "outputs": [
    {
     "name": "stdout",
     "output_type": "stream",
     "text": [
      "[[ 30000]\n",
      " [  8000]\n",
      " [ 30000]\n",
      " [  5000]\n",
      " [ 60000]\n",
      " [  1000]\n",
      " [ 10000]\n",
      " [ 40000]\n",
      " [ 20000]\n",
      " [ 50000]\n",
      " [  2000]\n",
      " [ 70000]\n",
      " [ 10000]\n",
      " [ 80000]\n",
      " [120000]\n",
      " [ 10000]\n",
      " [  8000]\n",
      " [ 80000]\n",
      " [ 30000]\n",
      " [ 10000]\n",
      " [ 10000]\n",
      " [ 30000]\n",
      " [ 50000]\n",
      " [ 10000]\n",
      " [  2000]\n",
      " [ 80000]\n",
      " [ 30000]\n",
      " [ 20000]\n",
      " [  5000]\n",
      " [ 70000]\n",
      " [ 60000]\n",
      " [ 20000]\n",
      " [ 30000]\n",
      " [ 10000]\n",
      " [ 10000]\n",
      " [ 10000]\n",
      " [ 10000]\n",
      " [  2000]\n",
      " [ 40000]\n",
      " [ 10000]\n",
      " [ 10000]\n",
      " [ 20000]\n",
      " [ 10000]\n",
      " [ 50000]\n",
      " [ 20000]\n",
      " [ 10000]\n",
      " [  9000]\n",
      " [ 50000]\n",
      " [  3000]\n",
      " [ 10000]\n",
      " [ 70000]\n",
      " [ 30000]\n",
      " [ 70000]\n",
      " [ 40000]\n",
      " [ 20000]\n",
      " [  2000]\n",
      " [ 10000]\n",
      " [ 30000]\n",
      " [ 30000]\n",
      " [ 70000]\n",
      " [ 80000]\n",
      " [ 40000]\n",
      " [ 30000]\n",
      " [ 30000]]\n"
     ]
    }
   ],
   "source": [
    "x_data=xy[:,[0]]\n",
    "y_data = xy[:,[1]]\n",
    "\n",
    "print(x_data)"
   ]
  },
  {
   "cell_type": "code",
   "execution_count": 449,
   "metadata": {},
   "outputs": [],
   "source": [
    "\n",
    "\n",
    "model =  LinearRegression()"
   ]
  },
  {
   "cell_type": "code",
   "execution_count": 450,
   "metadata": {},
   "outputs": [
    {
     "data": {
      "text/plain": [
       "LinearRegression(copy_X=True, fit_intercept=True, n_jobs=None, normalize=False)"
      ]
     },
     "execution_count": 450,
     "metadata": {},
     "output_type": "execute_result"
    }
   ],
   "source": [
    "model.fit(x_data,y_data)"
   ]
  },
  {
   "cell_type": "code",
   "execution_count": 451,
   "metadata": {
    "scrolled": true
   },
   "outputs": [
    {
     "data": {
      "text/plain": [
       "0.3756597311996652"
      ]
     },
     "execution_count": 451,
     "metadata": {},
     "output_type": "execute_result"
    }
   ],
   "source": [
    "model.score(x_data,y_data)\n",
    "\n",
    "\n"
   ]
  },
  {
   "cell_type": "code",
   "execution_count": 453,
   "metadata": {},
   "outputs": [
    {
     "name": "stdout",
     "output_type": "stream",
     "text": [
      "키로수를 입력하세요: 8000\n",
      "100781361\n"
     ]
    }
   ],
   "source": [
    "k = float(input(\"키로수를 입력하세요: \"))\n",
    "pri = int(model.predict([[k]]))\n",
    "print(pri)\n",
    "x=[]\n",
    "aa = []\n",
    "for i in range(20):\n",
    "    x.append(int(k+500*i))\n",
    "    aa.append([int(model.predict([[k+500*i]]))])\n"
   ]
  },
  {
   "cell_type": "markdown",
   "metadata": {},
   "source": [
    "model.coef"
   ]
  },
  {
   "cell_type": "code",
   "execution_count": 454,
   "metadata": {},
   "outputs": [
    {
     "data": {
      "text/plain": [
       "array([[-708.66227354]])"
      ]
     },
     "execution_count": 454,
     "metadata": {},
     "output_type": "execute_result"
    }
   ],
   "source": [
    "model.coef_"
   ]
  },
  {
   "cell_type": "code",
   "execution_count": null,
   "metadata": {},
   "outputs": [],
   "source": []
  },
  {
   "cell_type": "code",
   "execution_count": null,
   "metadata": {},
   "outputs": [],
   "source": []
  },
  {
   "cell_type": "code",
   "execution_count": 455,
   "metadata": {},
   "outputs": [
    {
     "data": {
      "text/plain": [
       "array([1.06450659e+08])"
      ]
     },
     "execution_count": 455,
     "metadata": {},
     "output_type": "execute_result"
    }
   ],
   "source": [
    "model.intercept_"
   ]
  },
  {
   "cell_type": "code",
   "execution_count": 458,
   "metadata": {
    "scrolled": false
   },
   "outputs": [
    {
     "data": {
      "image/png": "[encoded data removed]",
      "text/plain": [
       "<Figure size 432x288 with 1 Axes>"
      ]
     },
     "metadata": {
      "needs_background": "light"
     },
     "output_type": "display_data"
    }
   ],
   "source": [
    "plt.title(carname)\n",
    "plt.plot(k,pri,\"ro\")\n",
    "plt.plot(x,aa)\n",
    "plt.xlabel('km')\n",
    "plt.ylabel('price')\n",
    "\n",
    "plt.show()"
   ]
  },
  {
   "cell_type": "code",
   "execution_count": null,
   "metadata": {},
   "outputs": [],
   "source": []
  }
 ],
 "metadata": {
  "kernelspec": {
   "display_name": "Python 3",
   "language": "python",
   "name": "python3"
  },
  "language_info": {
   "codemirror_mode": {
    "name": "ipython",
    "version": 3
   },
   "file_extension": ".py",
   "mimetype": "text/x-python",
   "name": "python",
   "nbconvert_exporter": "python",
   "pygments_lexer": "ipython3",
   "version": "3.7.4"
  }
 },
 "nbformat": 4,
 "nbformat_minor": 2
}
